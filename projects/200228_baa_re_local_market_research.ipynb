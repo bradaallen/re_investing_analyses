{
 "cells": [
  {
   "cell_type": "markdown",
   "metadata": {},
   "source": [
    "## Analyzing Shortlisted RE Markets"
   ]
  },
  {
   "cell_type": "markdown",
   "metadata": {},
   "source": [
    "Following the preliminary analysis of different markets, have narrowed to 5 markets to review with different criteria:\n",
    "\n",
    "* **Mid-Sized Towns that are satellites of large growing MSAs**\n",
    "    * Hickory, NC (Charlotte) [Most recent CAFR here](https://www.hickorync.gov/sites/default/files/Government/Departments/Administrative%20Services/Finance/Accounting/City%20of%20Hickory%20-%202019%20Audit%20Report.pdf)\n",
    "    * Gainesville, GA (Atlanta) [Most recent CAFR here](https://www.gainesville.org/fullpanel/uploads/files/city-of-gainesville-georgia-comprehensive-annual-financial-report-2019%20.pdf)\n",
    "    * Salem, OR (Portland) [Most recent CAFR here](https://www.cityofsalem.net/citydocuments/comprehensive-annual-financial-report-fy-19.pdf)\n",
    "* **\"New Tech Hubs\"**\n",
    "    * Portland, OR [Most recent CAFR here](https://www.portlandoregon.gov/omf/article/746028)\n",
    "    * Provo-Orem, UT [Most recent CAFR here](https://www.provo.org/Home/ShowDocument?id=16214)\n",
    "* **Consistently ranked highly - but does not match expected profile**\n",
    "    * Naples, FL [Most recent CAFR here](https://www.naplesgov.com/sites/default/files/fileattachments/finance/page/11701/2018_city_of_naples_florida_cafr.pdf)\n",
    "    \n",
    "Rent growth outpaces home prices for select states (specifically WI, CT, SC, MS, OH). Is this due to tenant / landlord laws in those states?"
   ]
  },
  {
   "cell_type": "markdown",
   "metadata": {},
   "source": [
    "**Next Steps**\n",
    "* Read the above and see what you learn, document it\n",
    "* Look and see what you can discern about individual neighborhood trends and see if there is some scoring that can be done.\n",
    "* Pick a few neighborhoods and look at individual houses"
   ]
  },
  {
   "cell_type": "code",
   "execution_count": 3,
   "metadata": {},
   "outputs": [
    {
     "data": {
      "text/plain": [
       "['Presidio', 'Chinatown', 'Forest Knolls', 'Ingleside', 'North Beach']"
      ]
     },
     "execution_count": 3,
     "metadata": {},
     "output_type": "execute_result"
    }
   ],
   "source": [
    "import requests\n",
    "import json\n",
    "\n",
    "# Endpoint appears pretty special - documentation: https://www.mashvisor.com/api-doc/#introduction\n",
    "api_key = '702cd2d3-607c-4c92-bb70-f6b18f64caea'\n",
    "endpoint = 'https://api.mashvisor.com/v1.1/client/city/neighborhoods/CA/San%20Francisco'\n",
    "headers = {\"x-api-key\": f'{api_key}'}\n",
    "\n",
    "response = requests.get(endpoint, headers=headers)\n",
    "json_data = json.loads(response.text)\n",
    "\n",
    "open_list = []\n",
    "for item in json_data['content']['results']:\n",
    "    open_list.append(item['name'])\n",
    "\n",
    "# neighborhoods in SF with pricing data from mashvisor\n",
    "open_list[0:5]"
   ]
  },
  {
   "cell_type": "raw",
   "metadata": {},
   "source": [
    "# Additional Criteria for shortlisted markets\n",
    "    ## Who are the types of folks that live in 2-4 unit homes? Are these homes in \"paths of progress\"? \n",
    "    # How to think about multifamily tenants vs. SFR?\n",
    "    \n",
    "    \n",
    "'''\n",
    "Convenience\n",
    "One of my earliest investment teachers and mentors, Greg Pinneo, used to\n",
    "say he wanted to invest within 10 miles of a major economic center. At the\n",
    "time, I thought “wow, that is very speci􀀤c.” But I’ve learned the wisdom of\n",
    "his criteria.\n",
    "\n",
    "Romance\n",
    "In some places romance could include:\n",
    "Proximity to parks and green spaces where people can relax, stroll,\n",
    "and enjoy themselves\n",
    "Streets lined with mature, tall trees\n",
    "\n",
    "Walkability\n",
    "But walkability isn’t just something I love. An entire website called\n",
    "walkscore.com rates locations around the country for their friendliness to\n",
    "walkers. From “walker’s paradise” to “car dependent,” you can plug in your\n",
    "specific locations to see how it ranks.\n",
    "\n",
    "Rental laws and licenses – Local regulation of rentals is a growing\n",
    "trend. In my town, I have to obtain a rental license, pay a yearly fee, and\n",
    "meet an inspector at each property annually.\n",
    "\n",
    "Rent controls – Some bigger cities actually regulate how much you can\n",
    "rent a unit for and/or how much you can raise rent over a certain period of\n",
    "time. This is obviously a concern for your overall investment return.\n",
    "\n",
    "Eviction laws – State governments in the US typically regulate landlordtenant\n",
    "laws. Some states are landlord friendly, and others are tenant\n",
    "friendly. If you are buying investments in a tenant -friendly state (looking at\n",
    "you, New York, Massachusetts, and California), prepare for additional costs\n",
    "and time if you need to evict a bad tenant.\n",
    "\n",
    "file:///C:/Users/allen%20brad/Desktop/BPC-US-2018-WEB.pdf\n",
    "States with attractive business climates and economic development strategies contributed\n",
    "to the strong showings on the index for No. 10 Salt Lake City, UT, No. 12 Boise City, ID,\n",
    "No. 13 Charlotte-Concord-Gastonia, NC-SC, No. 20 Phoenix-Mesa-Scottsdale, AZ,\n",
    "No. 21 Ogden-Clearfield, UT, and No. 25 Nashville-Davidson-Murfreesboro-Franklin, TN\n",
    "\n",
    "\n",
    "'''"
   ]
  }
 ],
 "metadata": {
  "kernelspec": {
   "display_name": "RE Environment",
   "language": "python",
   "name": "re_investing_env"
  },
  "language_info": {
   "codemirror_mode": {
    "name": "ipython",
    "version": 3
   },
   "file_extension": ".py",
   "mimetype": "text/x-python",
   "name": "python",
   "nbconvert_exporter": "python",
   "pygments_lexer": "ipython3",
   "version": "3.7.4"
  }
 },
 "nbformat": 4,
 "nbformat_minor": 2
}
